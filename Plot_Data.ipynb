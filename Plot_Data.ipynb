{
 "cells": [
  {
   "cell_type": "markdown",
   "metadata": {},
   "source": [
    "## Plotting Graphs\n",
    "\n",
    "### Data"
   ]
  },
  {
   "cell_type": "code",
   "execution_count": 1,
   "metadata": {},
   "outputs": [],
   "source": [
    "import matplotlib.pyplot as plt"
   ]
  },
  {
   "cell_type": "markdown",
   "metadata": {},
   "source": [
    "### Data : frame - time (GPU)\n",
    "200/200 [00:05<00:00, 36.82frame/s]\n",
    "\n",
    "250/250 [00:06<00:00, 41.45frame/s]\n",
    "\n",
    "300/300 [00:06<00:00, 47.28frame/s]\n",
    "\n",
    "350/350 [00:07<00:00, 49.48frame/s]\n",
    "\n",
    "400/400 [00:07<00:00, 52.03frame/s]\n",
    "\n",
    "450/450 [00:08<00:00, 54.76frame/s]\n",
    "\n",
    "500/500 [00:08<00:00, 56.57frame/s]\n",
    "\n",
    "600/600 [00:09<00:00, 60.18frame/s]"
   ]
  },
  {
   "cell_type": "code",
   "execution_count": 2,
   "metadata": {},
   "outputs": [],
   "source": [
    "# GPU time\n",
    "time = [5.00, 6.27, 6.67, 7.21, 7.89, 8.43, 8.97, 9.41, 10.01] #seconds\n",
    "frames = [200, 250, 300, 350, 400, 450, 500, 550, 600]"
   ]
  },
  {
   "cell_type": "markdown",
   "metadata": {},
   "source": [
    "### Data : frame - time (CPU)\n",
    "200/200 [03:18<00:00,  1.01frame/s]\n",
    "\n",
    "250/250 [04:08<00:00,  1.00frame/s]\n",
    "\n",
    "300/300 [04:58<00:00,  1.01frame/s]\n",
    "\n",
    "350/350 [05:50<00:00,  1.00frame/s]\n",
    "\n",
    "400/400 [06:40<00:00,  1.00s/frame]\n",
    "\n",
    "450/450 [07:29<00:00,  1.00frame/s]\n",
    "\n",
    "500/500 [08:27<00:00,  1.00frame/s]\n",
    "\n",
    "600/600 [10:10<00:00,  1.01frame/s]"
   ]
  },
  {
   "cell_type": "code",
   "execution_count": null,
   "metadata": {},
   "outputs": [],
   "source": [
    "# CPU time\n",
    "time = [198, 245, 300, 353, 400, 449, 501, 557, 610] #seconds\n",
    "frames = [200, 250, 300, 350, 400, 450, 500, 550, 600]"
   ]
  },
  {
   "cell_type": "markdown",
   "metadata": {},
   "source": [
    "#### Plots"
   ]
  },
  {
   "cell_type": "code",
   "execution_count": 4,
   "metadata": {},
   "outputs": [
    {
     "data": {
      "image/png": "[encoded data removed]",
      "text/plain": [
       "<Figure size 432x288 with 1 Axes>"
      ]
     },
     "metadata": {
      "needs_background": "light"
     },
     "output_type": "display_data"
    }
   ],
   "source": [
    "## Time in seconds\n",
    "frames = [200, 250, 300, 350, 400, 450, 500, 550, 600]\n",
    "cp_time =[198, 245, 300, 353, 400, 449, 501, 557, 610]\n",
    "gpu_time = [5.00, 6.27, 6.67, 7.21, 7.89, 8.43, 8.97, 9.41, 10.01]\n",
    "\n",
    "plt.xlabel(\"No. of Frames\")\n",
    "plt.ylabel(\"Time\")\n",
    "plt.title('CPU vs GPU (Time in sec)')\n",
    "\n",
    "\n",
    "plt.scatter(frames,cp_time)\n",
    "plt.scatter(frames,gpu_time)\n",
    "plt.legend([\"CPU\", \"GPU\"])\n",
    "plt.show()"
   ]
  }
 ],
 "metadata": {
  "kernelspec": {
   "display_name": "Python 3",
   "language": "python",
   "name": "python3"
  },
  "language_info": {
   "codemirror_mode": {
    "name": "ipython",
    "version": 3
   },
   "file_extension": ".py",
   "mimetype": "text/x-python",
   "name": "python",
   "nbconvert_exporter": "python",
   "pygments_lexer": "ipython3",
   "version": "3.8.5"
  }
 },
 "nbformat": 4,
 "nbformat_minor": 4
}
